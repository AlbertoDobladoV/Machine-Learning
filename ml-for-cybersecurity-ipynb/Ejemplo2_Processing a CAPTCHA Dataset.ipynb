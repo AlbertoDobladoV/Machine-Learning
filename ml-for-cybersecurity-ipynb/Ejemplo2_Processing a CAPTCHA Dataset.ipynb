{
 "cells": [
  {
   "cell_type": "code",
   "execution_count": 23,
   "metadata": {},
   "outputs": [],
   "source": [
    "import os\n",
    "\n",
    "captcha_images_folder = \"captcha_images\"\n",
    "captchas = [\n",
    "    os.path.join(captcha_images_folder, f) for f in os.listdir(captcha_images_folder)\n",
    "]"
   ]
  },
  {
   "cell_type": "code",
   "execution_count": 3,
   "metadata": {
    "scrolled": true
   },
   "outputs": [
    {
     "name": "stdout",
     "output_type": "stream",
     "text": [
      "Looking in indexes: https://pypi.org/simple, https://tcwi7gjaras72tfzjcibxzygmuwoisggm66qswsip34e7rbdz7ya/repsol-digital-team/_packaging/TechLab-MLlab%40Local/pypi/simple/\n",
      "Collecting opencv-python\n",
      "  Downloading https://files.pythonhosted.org/packages/70/a8/e52a82936be6d5696fb06c78450707c26dc13df91bb6bf49583bb9abbaa0/opencv_python-4.5.1.48-cp37-cp37m-win_amd64.whl (34.9MB)\n",
      "Requirement already satisfied: numpy>=1.14.5 in c:\\users\\gabri\\anaconda3\\lib\\site-packages (from opencv-python) (1.16.5)\n",
      "Installing collected packages: opencv-python\n",
      "Successfully installed opencv-python-4.5.1.48\n"
     ]
    },
    {
     "name": "stderr",
     "output_type": "stream",
     "text": [
      "  WARNING: Retrying (Retry(total=4, connect=None, read=None, redirect=None, status=None)) after connection broken by 'NewConnectionError('<pip._vendor.urllib3.connection.VerifiedHTTPSConnection object at 0x000001ADF920A108>: Failed to establish a new connection: [Errno 11001] getaddrinfo failed')': /repsol-digital-team/_packaging/TechLab-MLlab%40Local/pypi/simple/opencv-python/\n",
      "  WARNING: Retrying (Retry(total=3, connect=None, read=None, redirect=None, status=None)) after connection broken by 'NewConnectionError('<pip._vendor.urllib3.connection.VerifiedHTTPSConnection object at 0x000001ADF920A848>: Failed to establish a new connection: [Errno 11001] getaddrinfo failed')': /repsol-digital-team/_packaging/TechLab-MLlab%40Local/pypi/simple/opencv-python/\n",
      "  WARNING: Retrying (Retry(total=2, connect=None, read=None, redirect=None, status=None)) after connection broken by 'NewConnectionError('<pip._vendor.urllib3.connection.VerifiedHTTPSConnection object at 0x000001ADF920ACC8>: Failed to establish a new connection: [Errno 11001] getaddrinfo failed')': /repsol-digital-team/_packaging/TechLab-MLlab%40Local/pypi/simple/opencv-python/\n",
      "  WARNING: Retrying (Retry(total=1, connect=None, read=None, redirect=None, status=None)) after connection broken by 'NewConnectionError('<pip._vendor.urllib3.connection.VerifiedHTTPSConnection object at 0x000001ADF920D188>: Failed to establish a new connection: [Errno 11001] getaddrinfo failed')': /repsol-digital-team/_packaging/TechLab-MLlab%40Local/pypi/simple/opencv-python/\n",
      "  WARNING: Retrying (Retry(total=0, connect=None, read=None, redirect=None, status=None)) after connection broken by 'NewConnectionError('<pip._vendor.urllib3.connection.VerifiedHTTPSConnection object at 0x000001ADF920D608>: Failed to establish a new connection: [Errno 11001] getaddrinfo failed')': /repsol-digital-team/_packaging/TechLab-MLlab%40Local/pypi/simple/opencv-python/\n"
     ]
    }
   ],
   "source": [
    "!pip install opencv-python"
   ]
  },
  {
   "cell_type": "code",
   "execution_count": 24,
   "metadata": {},
   "outputs": [],
   "source": [
    "import cv2\n",
    "\n",
    "def preprocess_CAPTCHA(img):\n",
    "    \"\"\"Takes a CAPTCHA image and thresholds it.\"\"\"\n",
    "    gray = cv2.cvtColor(img, cv2.COLOR_BGR2GRAY)\n",
    "    gray_with_border = cv2.copyMakeBorder(gray, 8, 8, 8, 8, cv2.BORDER_REPLICATE)\n",
    "    preprocessed = cv2.threshold(\n",
    "        gray_with_border, 0, 255, cv2.THRESH_BINARY_INV | cv2.THRESH_OTSU\n",
    "    )[1]\n",
    "    return gray_with_border, preprocessed"
   ]
  },
  {
   "cell_type": "code",
   "execution_count": 25,
   "metadata": {},
   "outputs": [],
   "source": [
    "def get_CAPTCHA_label(path_to_file):\n",
    "    \"\"\"Get the CAPTCHA text from the file name.\"\"\"\n",
    "    filename = os.path.basename(path_to_file)\n",
    "    label = filename.split(\".\")[0]\n",
    "    return label"
   ]
  },
  {
   "cell_type": "code",
   "execution_count": 26,
   "metadata": {},
   "outputs": [],
   "source": [
    "def find_bounding_rectangles_of_contours(contours):\n",
    "    \"\"\"Determines the bounding rectangles of the contours of the cropped letters.\"\"\"\n",
    "    letter_bounding_rectangles = []\n",
    "    for contour in contours:\n",
    "        (x, y, w, h) = cv2.boundingRect(contour)\n",
    "        if w / h > 1.25:\n",
    "            half_width = int(w / 2)\n",
    "            letter_bounding_rectangles.append((x, y, half_width, h))\n",
    "            letter_bounding_rectangles.append((x + half_width, y, half_width, h))\n",
    "        else:\n",
    "            letter_bounding_rectangles.append((x, y, w, h))\n",
    "    return letter_bounding_rectangles"
   ]
  },
  {
   "cell_type": "code",
   "execution_count": 27,
   "metadata": {},
   "outputs": [],
   "source": [
    "def CAPTCHA_to_gray_scale_and_bounding_rectangles(captcha_image_file):\n",
    "    \"\"\"Take a CAPTCHA and output a grayscale version as well as the bounding rectangles of its cropped letters.\"\"\"\n",
    "    image = cv2.imread(captcha_image_file)\n",
    "    gray, preprocessed = preprocess_CAPTCHA(image)\n",
    "    contours = cv2.findContours(\n",
    "        preprocessed.copy(), cv2.RETR_EXTERNAL, cv2.CHAIN_APPROX_SIMPLE\n",
    "    )\n",
    "    contours = contours[0]\n",
    "    letter_bounding_rectangles = find_bounding_rectangles_of_contours(contours)\n",
    "    letter_bounding_rectangles = sorted(letter_bounding_rectangles, key=lambda x: x[0])\n",
    "    return gray, letter_bounding_rectangles"
   ]
  },
  {
   "cell_type": "code",
   "execution_count": 28,
   "metadata": {},
   "outputs": [],
   "source": [
    "def bounding_rectangle_to_letter_image(letter_bounding_box, grayscaled):\n",
    "    \"\"\"Obtains the letter defined by a bounding box.\"\"\"\n",
    "    x, y, w, h = letter_bounding_box\n",
    "    letter_image = grayscaled[y - 2 : y + h + 2, x - 2 : x + w + 2]\n",
    "    return letter_image"
   ]
  },
  {
   "cell_type": "code",
   "execution_count": 29,
   "metadata": {},
   "outputs": [],
   "source": [
    "captcha_processing_output_folder = \"extracted_letter_images\"\n",
    "character_counts = {}\n",
    "\n",
    "\n",
    "def crop_bounding_rectangles_and_save_to_file(\n",
    "    letter_bounding_rectangles, gray, captcha_label\n",
    "):\n",
    "    \"\"\"Saves the individual letters of a CAPTCHA.\"\"\"\n",
    "    for letter_bounding_rectangle, current_letter in zip(\n",
    "        letter_bounding_rectangles, captcha_label\n",
    "    ):\n",
    "        letter_image = bounding_rectangle_to_letter_image(\n",
    "            letter_bounding_rectangle, gray\n",
    "        )\n",
    "\n",
    "        save_path = os.path.join(captcha_processing_output_folder, current_letter)\n",
    "        if not os.path.exists(save_path):\n",
    "            os.makedirs(save_path)\n",
    "\n",
    "        character_count = character_counts.get(current_letter, 1)\n",
    "\n",
    "        p = os.path.join(save_path, str(character_count) + \".png\")\n",
    "        cv2.imwrite(p, letter_image)\n",
    "\n",
    "        character_counts[current_letter] = character_count + 1"
   ]
  },
  {
   "cell_type": "code",
   "execution_count": 30,
   "metadata": {},
   "outputs": [
    {
     "name": "stdout",
     "output_type": "stream",
     "text": [
      "Looking in indexes: https://pypi.org/simple, https://tcwi7gjaras72tfzjcibxzygmuwoisggm66qswsip34e7rbdz7ya/repsol-digital-team/_packaging/TechLab-MLlab%40Local/pypi/simple/\n",
      "Requirement already satisfied: imutils in c:\\users\\gabri\\anaconda3\\lib\\site-packages (0.5.3)\n"
     ]
    }
   ],
   "source": [
    "!pip install imutils"
   ]
  },
  {
   "cell_type": "code",
   "execution_count": 31,
   "metadata": {},
   "outputs": [],
   "source": [
    "import imutils\n",
    "import numpy as np\n",
    "\n",
    "for captcha_image_file in captchas:\n",
    "    captcha_label = get_CAPTCHA_label(captcha_image_file)\n",
    "    gray, letter_bounding_rectangles = CAPTCHA_to_gray_scale_and_bounding_rectangles(\n",
    "        captcha_image_file\n",
    "    )\n",
    "    if len(letter_bounding_rectangles) != 4:\n",
    "        continue\n",
    "    crop_bounding_rectangles_and_save_to_file(\n",
    "        letter_bounding_rectangles, gray, captcha_label\n",
    "    )"
   ]
  },
  {
   "cell_type": "code",
   "execution_count": null,
   "metadata": {},
   "outputs": [],
   "source": []
  }
 ],
 "metadata": {
  "kernelspec": {
   "display_name": "Python 3",
   "language": "python",
   "name": "python3"
  },
  "language_info": {
   "codemirror_mode": {
    "name": "ipython",
    "version": 3
   },
   "file_extension": ".py",
   "mimetype": "text/x-python",
   "name": "python",
   "nbconvert_exporter": "python",
   "pygments_lexer": "ipython3",
   "version": "3.7.4"
  },
  "toc": {
   "base_numbering": 1,
   "nav_menu": {},
   "number_sections": true,
   "sideBar": true,
   "skip_h1_title": false,
   "title_cell": "Table of Contents",
   "title_sidebar": "Contents",
   "toc_cell": false,
   "toc_position": {},
   "toc_section_display": true,
   "toc_window_display": false
  }
 },
 "nbformat": 4,
 "nbformat_minor": 4
}
