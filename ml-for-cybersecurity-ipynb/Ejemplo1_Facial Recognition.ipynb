{
 "cells": [
  {
   "cell_type": "code",
   "execution_count": 1,
   "metadata": {
    "collapsed": true
   },
   "outputs": [
    {
     "ename": "ModuleNotFoundError",
     "evalue": "No module named 'face_recognition'",
     "output_type": "error",
     "traceback": [
      "\u001b[1;31m---------------------------------------------------------------------------\u001b[0m",
      "\u001b[1;31mModuleNotFoundError\u001b[0m                       Traceback (most recent call last)",
      "\u001b[1;32m<ipython-input-1-ca17cc6b8bdb>\u001b[0m in \u001b[0;36m<module>\u001b[1;34m\u001b[0m\n\u001b[1;32m----> 1\u001b[1;33m \u001b[1;32mimport\u001b[0m \u001b[0mface_recognition\u001b[0m\u001b[1;33m\u001b[0m\u001b[1;33m\u001b[0m\u001b[0m\n\u001b[0m",
      "\u001b[1;31mModuleNotFoundError\u001b[0m: No module named 'face_recognition'"
     ]
    }
   ],
   "source": [
    "import face_recognition"
   ]
  },
  {
   "cell_type": "code",
   "execution_count": 4,
   "metadata": {},
   "outputs": [],
   "source": [
    "known_image = face_recognition.load_image_file(\"trump_official_portrait.jpg\")"
   ]
  },
  {
   "cell_type": "code",
   "execution_count": 5,
   "metadata": {},
   "outputs": [],
   "source": [
    "unknown_image = face_recognition.load_image_file(\"trump_and_others.jpg\")"
   ]
  },
  {
   "cell_type": "code",
   "execution_count": 6,
   "metadata": {},
   "outputs": [],
   "source": [
    "trump_encoding = face_recognition.face_encodings(known_image)[0]"
   ]
  },
  {
   "cell_type": "code",
   "execution_count": 7,
   "metadata": {},
   "outputs": [],
   "source": [
    "unknown_faces = face_recognition.face_encodings(unknown_image)"
   ]
  },
  {
   "cell_type": "code",
   "execution_count": 8,
   "metadata": {},
   "outputs": [
    {
     "name": "stdout",
     "output_type": "stream",
     "text": [
      "[False, False, False, True]\n"
     ]
    }
   ],
   "source": [
    "matches = face_recognition.compare_faces(unknown_faces, trump_encoding)\n",
    "print(matches)"
   ]
  },
  {
   "cell_type": "code",
   "execution_count": 9,
   "metadata": {},
   "outputs": [],
   "source": [
    "face_locations = face_recognition.face_locations(unknown_image)"
   ]
  },
  {
   "cell_type": "code",
   "execution_count": 10,
   "metadata": {},
   "outputs": [],
   "source": [
    "trump_face_location = face_locations[3]"
   ]
  },
  {
   "cell_type": "code",
   "execution_count": 11,
   "metadata": {},
   "outputs": [],
   "source": [
    "import cv2\n",
    "\n",
    "unknown_image_cv2 = cv2.imread(\"trump_and_others.jpg\")"
   ]
  },
  {
   "cell_type": "code",
   "execution_count": 12,
   "metadata": {},
   "outputs": [
    {
     "data": {
      "text/plain": [
       "array([[[2, 0, 0],\n",
       "        [2, 0, 0],\n",
       "        [3, 1, 1],\n",
       "        ...,\n",
       "        [3, 1, 1],\n",
       "        [3, 1, 1],\n",
       "        [3, 1, 1]],\n",
       "\n",
       "       [[2, 0, 0],\n",
       "        [2, 0, 0],\n",
       "        [2, 0, 0],\n",
       "        ...,\n",
       "        [2, 0, 0],\n",
       "        [2, 0, 0],\n",
       "        [3, 1, 1]],\n",
       "\n",
       "       [[2, 0, 0],\n",
       "        [2, 0, 0],\n",
       "        [2, 0, 0],\n",
       "        ...,\n",
       "        [2, 0, 0],\n",
       "        [2, 0, 0],\n",
       "        [2, 0, 0]],\n",
       "\n",
       "       ...,\n",
       "\n",
       "       [[3, 1, 1],\n",
       "        [3, 1, 1],\n",
       "        [4, 2, 2],\n",
       "        ...,\n",
       "        [2, 0, 0],\n",
       "        [2, 0, 0],\n",
       "        [4, 2, 2]],\n",
       "\n",
       "       [[3, 1, 1],\n",
       "        [3, 1, 1],\n",
       "        [4, 2, 2],\n",
       "        ...,\n",
       "        [3, 1, 1],\n",
       "        [4, 2, 2],\n",
       "        [6, 4, 4]],\n",
       "\n",
       "       [[3, 1, 1],\n",
       "        [3, 1, 1],\n",
       "        [3, 1, 1],\n",
       "        ...,\n",
       "        [4, 2, 2],\n",
       "        [6, 4, 4],\n",
       "        [8, 6, 6]]], dtype=uint8)"
      ]
     },
     "execution_count": 12,
     "metadata": {},
     "output_type": "execute_result"
    }
   ],
   "source": [
    "(top, right, bottom, left) = trump_face_location\n",
    "cv2.rectangle(unknown_image_cv2, (left, top), (right, bottom), (0, 0, 255), 2)"
   ]
  },
  {
   "cell_type": "code",
   "execution_count": 13,
   "metadata": {},
   "outputs": [
    {
     "data": {
      "text/plain": [
       "array([[[2, 0, 0],\n",
       "        [2, 0, 0],\n",
       "        [3, 1, 1],\n",
       "        ...,\n",
       "        [3, 1, 1],\n",
       "        [3, 1, 1],\n",
       "        [3, 1, 1]],\n",
       "\n",
       "       [[2, 0, 0],\n",
       "        [2, 0, 0],\n",
       "        [2, 0, 0],\n",
       "        ...,\n",
       "        [2, 0, 0],\n",
       "        [2, 0, 0],\n",
       "        [3, 1, 1]],\n",
       "\n",
       "       [[2, 0, 0],\n",
       "        [2, 0, 0],\n",
       "        [2, 0, 0],\n",
       "        ...,\n",
       "        [2, 0, 0],\n",
       "        [2, 0, 0],\n",
       "        [2, 0, 0]],\n",
       "\n",
       "       ...,\n",
       "\n",
       "       [[3, 1, 1],\n",
       "        [3, 1, 1],\n",
       "        [4, 2, 2],\n",
       "        ...,\n",
       "        [2, 0, 0],\n",
       "        [2, 0, 0],\n",
       "        [4, 2, 2]],\n",
       "\n",
       "       [[3, 1, 1],\n",
       "        [3, 1, 1],\n",
       "        [4, 2, 2],\n",
       "        ...,\n",
       "        [3, 1, 1],\n",
       "        [4, 2, 2],\n",
       "        [6, 4, 4]],\n",
       "\n",
       "       [[3, 1, 1],\n",
       "        [3, 1, 1],\n",
       "        [3, 1, 1],\n",
       "        ...,\n",
       "        [4, 2, 2],\n",
       "        [6, 4, 4],\n",
       "        [8, 6, 6]]], dtype=uint8)"
      ]
     },
     "execution_count": 13,
     "metadata": {},
     "output_type": "execute_result"
    }
   ],
   "source": [
    "cv2.rectangle(\n",
    "    unknown_image_cv2, (left, bottom - 35), (right, bottom), (0, 0, 255), cv2.FILLED\n",
    ")\n",
    "font = cv2.FONT_HERSHEY_DUPLEX\n",
    "cv2.putText(\n",
    "    unknown_image_cv2, \"Trump\", (left + 6, bottom - 6), font, 1.0, (255, 255, 255), 1\n",
    ")"
   ]
  },
  {
   "cell_type": "code",
   "execution_count": 14,
   "metadata": {},
   "outputs": [],
   "source": [
    "cv2.namedWindow(\"image\", cv2.WINDOW_NORMAL)\n",
    "cv2.imshow(\"image\", unknown_image_cv2)\n",
    "cv2.waitKey(0)\n",
    "cv2.destroyAllWindows()"
   ]
  },
  {
   "cell_type": "code",
   "execution_count": null,
   "metadata": {},
   "outputs": [],
   "source": []
  }
 ],
 "metadata": {
  "kernelspec": {
   "display_name": "Python 3",
   "language": "python",
   "name": "python3"
  },
  "language_info": {
   "codemirror_mode": {
    "name": "ipython",
    "version": 3
   },
   "file_extension": ".py",
   "mimetype": "text/x-python",
   "name": "python",
   "nbconvert_exporter": "python",
   "pygments_lexer": "ipython3",
   "version": "3.7.4"
  },
  "toc": {
   "base_numbering": 1,
   "nav_menu": {},
   "number_sections": true,
   "sideBar": true,
   "skip_h1_title": false,
   "title_cell": "Table of Contents",
   "title_sidebar": "Contents",
   "toc_cell": false,
   "toc_position": {},
   "toc_section_display": true,
   "toc_window_display": false
  }
 },
 "nbformat": 4,
 "nbformat_minor": 4
}
