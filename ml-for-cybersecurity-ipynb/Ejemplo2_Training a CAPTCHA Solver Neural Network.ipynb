{
 "cells": [
  {
   "cell_type": "code",
   "execution_count": null,
   "metadata": {},
   "outputs": [],
   "source": [
    "captcha_processing_output_folder = \"extracted_letter_images\""
   ]
  },
  {
   "cell_type": "code",
   "execution_count": null,
   "metadata": {},
   "outputs": [],
   "source": [
    "import cv2\n",
    "import imutils"
   ]
  },
  {
   "cell_type": "code",
   "execution_count": null,
   "metadata": {},
   "outputs": [],
   "source": [
    "def resize_image_to_dimensions(image, desired_width, desired_height):\n",
    "    \"\"\"Resizes an image to the desired dimensions.\"\"\"\n",
    "    (h, w) = image.shape[:2]\n",
    "    if w > h:\n",
    "        image = imutils.resize(image, width=desired_width)\n",
    "    else:\n",
    "        image = imutils.resize(image, height=desired_height)\n",
    "    pad_width = int((desired_width - image.shape[1]) / 2.0)\n",
    "    pad_height = int((desired_height - image.shape[0]) / 2.0)\n",
    "    image_with_border = cv2.copyMakeBorder(\n",
    "        image, pad_height, pad_height, pad_width, pad_width, cv2.BORDER_REPLICATE\n",
    "    )\n",
    "    image_with_border_resized = cv2.resize(\n",
    "        image_with_border, (desired_width, desired_height)\n",
    "    )\n",
    "    return image_with_border_resized"
   ]
  },
  {
   "cell_type": "code",
   "execution_count": null,
   "metadata": {},
   "outputs": [],
   "source": [
    "def read_image(image_file_path):\n",
    "    \"\"\"Read in an image file.\"\"\"\n",
    "    img = cv2.imread(image_file_path)\n",
    "    img = cv2.cvtColor(img, cv2.COLOR_BGR2GRAY)\n",
    "    img = resize_image_to_dimensions(img, 20, 20)\n",
    "    img = np.expand_dims(img, axis=2)\n",
    "    return img"
   ]
  },
  {
   "cell_type": "code",
   "execution_count": null,
   "metadata": {},
   "outputs": [],
   "source": [
    "import numpy as np\n",
    "import os\n",
    "from imutils import paths\n",
    "\n",
    "images = []\n",
    "labels = []\n",
    "\n",
    "for image_file_path in imutils.paths.list_images(captcha_processing_output_folder):\n",
    "    image_file = read_image(image_file_path)\n",
    "    label = image_file_path.split(os.path.sep)[-2]\n",
    "    images.append(image_file)\n",
    "    labels.append(label)"
   ]
  },
  {
   "cell_type": "code",
   "execution_count": null,
   "metadata": {},
   "outputs": [],
   "source": [
    "images = np.array(images, dtype=\"float\") / 255.0\n",
    "labels = np.array(labels)"
   ]
  },
  {
   "cell_type": "code",
   "execution_count": null,
   "metadata": {},
   "outputs": [],
   "source": [
    "from sklearn.model_selection import train_test_split\n",
    "\n",
    "(X_train, X_test, y_train, y_test) = train_test_split(\n",
    "    images, labels, test_size=0.3, random_state=11\n",
    ")"
   ]
  },
  {
   "cell_type": "code",
   "execution_count": null,
   "metadata": {},
   "outputs": [],
   "source": [
    "from sklearn.preprocessing import LabelBinarizer\n",
    "\n",
    "label_binarizer = LabelBinarizer().fit(y_train)\n",
    "y_train = label_binarizer.transform(y_train)\n",
    "y_test = label_binarizer.transform(y_test)"
   ]
  },
  {
   "cell_type": "code",
   "execution_count": 17,
   "metadata": {},
   "outputs": [
    {
     "name": "stdout",
     "output_type": "stream",
     "text": [
      "Looking in indexes: https://pypi.org/simple, https://tcwi7gjaras72tfzjcibxzygmuwoisggm66qswsip34e7rbdz7ya/repsol-digital-team/_packaging/TechLab-MLlab%40Local/pypi/simple/\n",
      "Collecting keras\n",
      "  Downloading https://files.pythonhosted.org/packages/44/e1/dc0757b20b56c980b5553c1b5c4c32d378c7055ab7bfa92006801ad359ab/Keras-2.4.3-py2.py3-none-any.whl\n",
      "Requirement already satisfied: numpy>=1.9.1 in c:\\users\\gabri\\anaconda3\\lib\\site-packages (from keras) (1.16.5)\n",
      "Requirement already satisfied: h5py in c:\\users\\gabri\\anaconda3\\lib\\site-packages (from keras) (2.9.0)\n",
      "Requirement already satisfied: scipy>=0.14 in c:\\users\\gabri\\anaconda3\\lib\\site-packages (from keras) (1.3.1)\n",
      "Requirement already satisfied: pyyaml in c:\\users\\gabri\\anaconda3\\lib\\site-packages (from keras) (5.1.2)\n",
      "Requirement already satisfied: six in c:\\users\\gabri\\anaconda3\\lib\\site-packages (from h5py->keras) (1.12.0)\n",
      "Installing collected packages: keras\n",
      "Successfully installed keras-2.4.3\n"
     ]
    },
    {
     "name": "stderr",
     "output_type": "stream",
     "text": [
      "  WARNING: Retrying (Retry(total=4, connect=None, read=None, redirect=None, status=None)) after connection broken by 'NewConnectionError('<pip._vendor.urllib3.connection.VerifiedHTTPSConnection object at 0x0000021D42BB2708>: Failed to establish a new connection: [Errno 11001] getaddrinfo failed')': /repsol-digital-team/_packaging/TechLab-MLlab%40Local/pypi/simple/keras/\n",
      "  WARNING: Retrying (Retry(total=3, connect=None, read=None, redirect=None, status=None)) after connection broken by 'NewConnectionError('<pip._vendor.urllib3.connection.VerifiedHTTPSConnection object at 0x0000021D42BB2E48>: Failed to establish a new connection: [Errno 11001] getaddrinfo failed')': /repsol-digital-team/_packaging/TechLab-MLlab%40Local/pypi/simple/keras/\n",
      "  WARNING: Retrying (Retry(total=2, connect=None, read=None, redirect=None, status=None)) after connection broken by 'NewConnectionError('<pip._vendor.urllib3.connection.VerifiedHTTPSConnection object at 0x0000021D42BAF448>: Failed to establish a new connection: [Errno 11001] getaddrinfo failed')': /repsol-digital-team/_packaging/TechLab-MLlab%40Local/pypi/simple/keras/\n",
      "  WARNING: Retrying (Retry(total=1, connect=None, read=None, redirect=None, status=None)) after connection broken by 'NewConnectionError('<pip._vendor.urllib3.connection.VerifiedHTTPSConnection object at 0x0000021D42BB1608>: Failed to establish a new connection: [Errno 11001] getaddrinfo failed')': /repsol-digital-team/_packaging/TechLab-MLlab%40Local/pypi/simple/keras/\n",
      "  WARNING: Retrying (Retry(total=0, connect=None, read=None, redirect=None, status=None)) after connection broken by 'NewConnectionError('<pip._vendor.urllib3.connection.VerifiedHTTPSConnection object at 0x0000021D42BB1808>: Failed to establish a new connection: [Errno 11001] getaddrinfo failed')': /repsol-digital-team/_packaging/TechLab-MLlab%40Local/pypi/simple/keras/\n"
     ]
    }
   ],
   "source": [
    "!pip install keras"
   ]
  },
  {
   "cell_type": "code",
   "execution_count": null,
   "metadata": {},
   "outputs": [],
   "source": [
    "!pip install tensorflow"
   ]
  },
  {
   "cell_type": "code",
   "execution_count": null,
   "metadata": {},
   "outputs": [],
   "source": [
    "from keras.models import Sequential\n",
    "from keras.layers.convolutional import Conv2D, MaxPooling2D\n",
    "from keras.layers.core import Flatten, Dense\n",
    "\n",
    "num_classes = 32\n",
    "NN_model = Sequential()\n",
    "NN_model.add(\n",
    "    Conv2D(20, (5, 5), padding=\"same\", input_shape=(20, 20, 1), activation=\"relu\")\n",
    ")\n",
    "NN_model.add(MaxPooling2D(pool_size=(2, 2), strides=(2, 2)))\n",
    "NN_model.add(Conv2D(50, (5, 5), padding=\"same\", activation=\"relu\"))\n",
    "NN_model.add(MaxPooling2D(pool_size=(2, 2), strides=(2, 2)))\n",
    "NN_model.add(Flatten())\n",
    "NN_model.add(Dense(512, activation=\"relu\"))\n",
    "NN_model.add(Dense(num_classes, activation=\"softmax\"))\n",
    "NN_model.compile(\n",
    "    loss=\"categorical_crossentropy\", optimizer=\"adam\", metrics=[\"accuracy\"]\n",
    ")\n",
    "NN_model.summary()"
   ]
  },
  {
   "cell_type": "code",
   "execution_count": null,
   "metadata": {},
   "outputs": [],
   "source": [
    "NN_model.fit(\n",
    "    X_train,\n",
    "    y_train,\n",
    "    validation_data=(X_test, y_test),\n",
    "    batch_size=16,\n",
    "    epochs=5,\n",
    "    verbose=1,\n",
    ")"
   ]
  },
  {
   "cell_type": "code",
   "execution_count": null,
   "metadata": {},
   "outputs": [],
   "source": [
    "CAPTCHA = \"captcha_images\\\\NZH2.png\""
   ]
  },
  {
   "cell_type": "code",
   "execution_count": null,
   "metadata": {},
   "outputs": [],
   "source": [
    "def find_bounding_rectangles_of_contours(contours):\n",
    "    \"\"\"Determines the bounding rectangles of the contours of the cropped letters.\"\"\"\n",
    "    letter_bounding_rectangles = []\n",
    "    for contour in contours:\n",
    "        (x, y, w, h) = cv2.boundingRect(contour)\n",
    "        if w / h > 1.25:\n",
    "            half_width = int(w / 2)\n",
    "            letter_bounding_rectangles.append((x, y, half_width, h))\n",
    "            letter_bounding_rectangles.append((x + half_width, y, half_width, h))\n",
    "        else:\n",
    "            letter_bounding_rectangles.append((x, y, w, h))\n",
    "    return letter_bounding_rectangles\n",
    "\n",
    "\n",
    "def preprocess_CAPTCHA(img):\n",
    "    \"\"\"Takes a CAPTCHA image and thresholds it.\"\"\"\n",
    "    gray = cv2.cvtColor(img, cv2.COLOR_BGR2GRAY)\n",
    "    gray_with_border = cv2.copyMakeBorder(gray, 8, 8, 8, 8, cv2.BORDER_REPLICATE)\n",
    "    preprocessed = cv2.threshold(\n",
    "        gray_with_border, 0, 255, cv2.THRESH_BINARY_INV | cv2.THRESH_OTSU\n",
    "    )[1]\n",
    "    return gray_with_border, preprocessed\n",
    "\n",
    "\n",
    "def get_CAPTCHA_label(path_to_file):\n",
    "    \"\"\"Get the CAPTCHA text from the file name.\"\"\"\n",
    "    filename = os.path.basename(path_to_file)\n",
    "    label = filename.split(\".\")[0]\n",
    "    return label\n",
    "\n",
    "\n",
    "def CAPTCHA_to_gray_scale_and_bounding_rectangles(captcha_image_file):\n",
    "    \"\"\"Take a CAPTCHA and output a grayscale version as well as the bounding rectangles of its cropped letters.\"\"\"\n",
    "    image = cv2.imread(captcha_image_file)\n",
    "    gray, preprocessed = preprocess_CAPTCHA(image)\n",
    "    contours = cv2.findContours(\n",
    "        preprocessed.copy(), cv2.RETR_EXTERNAL, cv2.CHAIN_APPROX_SIMPLE\n",
    "    )\n",
    "    contours = contours[0]\n",
    "    letter_bounding_rectangles = find_bounding_rectangles_of_contours(contours)\n",
    "    letter_bounding_rectangles = sorted(letter_bounding_rectangles, key=lambda x: x[0])\n",
    "    return gray, letter_bounding_rectangles"
   ]
  },
  {
   "cell_type": "code",
   "execution_count": 14,
   "metadata": {},
   "outputs": [],
   "source": [
    "captcha_label = get_CAPTCHA_label(CAPTCHA)\n",
    "gray, letter_bounding_rectangles = CAPTCHA_to_gray_scale_and_bounding_rectangles(\n",
    "    CAPTCHA\n",
    ")\n",
    "predictions = []"
   ]
  },
  {
   "cell_type": "code",
   "execution_count": 15,
   "metadata": {},
   "outputs": [],
   "source": [
    "for letter_bounding_rectangle in letter_bounding_rectangles:\n",
    "    x, y, w, h = letter_bounding_rectangle\n",
    "    letter_image = gray[y - 2 : y + h + 2, x - 2 : x + w + 2]\n",
    "    letter_image = resize_image_to_dimensions(letter_image, 20, 20)\n",
    "    letter_image = np.expand_dims(letter_image, axis=2)\n",
    "    letter_image = np.expand_dims(letter_image, axis=0)\n",
    "    prediction = NN_model.predict(letter_image)\n",
    "    letter = label_binarizer.inverse_transform(prediction)[0]\n",
    "    predictions.append(letter)"
   ]
  },
  {
   "cell_type": "code",
   "execution_count": 16,
   "metadata": {},
   "outputs": [
    {
     "name": "stdout",
     "output_type": "stream",
     "text": [
      "Predicted CAPTCHA text is: NZH2\n",
      "CAPTCHA text is: NZH2\n"
     ]
    }
   ],
   "source": [
    "predicted_captcha_text = \"\".join(predictions)\n",
    "print(\"Predicted CAPTCHA text is: {}\".format(predicted_captcha_text))\n",
    "print(\"CAPTCHA text is: {}\".format(CAPTCHA.split(\"\\\\\")[-1].split(\".\")[0]))"
   ]
  },
  {
   "cell_type": "code",
   "execution_count": null,
   "metadata": {},
   "outputs": [],
   "source": []
  }
 ],
 "metadata": {
  "kernelspec": {
   "display_name": "Python 3",
   "language": "python",
   "name": "python3"
  },
  "language_info": {
   "codemirror_mode": {
    "name": "ipython",
    "version": 3
   },
   "file_extension": ".py",
   "mimetype": "text/x-python",
   "name": "python",
   "nbconvert_exporter": "python",
   "pygments_lexer": "ipython3",
   "version": "3.7.4"
  },
  "toc": {
   "base_numbering": 1,
   "nav_menu": {},
   "number_sections": true,
   "sideBar": true,
   "skip_h1_title": false,
   "title_cell": "Table of Contents",
   "title_sidebar": "Contents",
   "toc_cell": false,
   "toc_position": {},
   "toc_section_display": true,
   "toc_window_display": false
  }
 },
 "nbformat": 4,
 "nbformat_minor": 4
}
